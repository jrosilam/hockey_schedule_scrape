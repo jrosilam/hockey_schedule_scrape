{
 "cells": [
  {
   "cell_type": "markdown",
   "metadata": {},
   "source": [
    "# Webscrape for Hockey Team"
   ]
  },
  {
   "cell_type": "markdown",
   "metadata": {},
   "source": [
    "## goals\n",
    "1. Simple webscrape with given `HTML`\n",
    "1. page before with list of teams"
   ]
  },
  {
   "cell_type": "code",
   "execution_count": 884,
   "metadata": {},
   "outputs": [],
   "source": [
    "import requests\n",
    "from bs4 import BeautifulSoup\n",
    "import pandas as pd\n",
    "import numpy as np\n",
    "from datetime import datetime as dt\n",
    "import re\n",
    "from urllib.parse import urlparse, urljoin"
   ]
  },
  {
   "cell_type": "code",
   "execution_count": 885,
   "metadata": {},
   "outputs": [],
   "source": [
    "url_main_league = 'https://stats.sharksice.timetoscore.com/display-stats.php?league=1'\n",
    "team_names = ['Team Beer','Team America']\n",
    "page_hockey_main = requests.get(url_main_league)\n",
    "\n",
    "soup_main = BeautifulSoup(page_hockey_main.content,\"html.parser\")\n",
    "link_names = soup_main.find_all('a',href=True)"
   ]
  },
  {
   "cell_type": "code",
   "execution_count": 886,
   "metadata": {},
   "outputs": [
    {
     "data": {
      "text/html": [
       "<div>\n",
       "<style scoped>\n",
       "    .dataframe tbody tr th:only-of-type {\n",
       "        vertical-align: middle;\n",
       "    }\n",
       "\n",
       "    .dataframe tbody tr th {\n",
       "        vertical-align: top;\n",
       "    }\n",
       "\n",
       "    .dataframe thead th {\n",
       "        text-align: right;\n",
       "    }\n",
       "</style>\n",
       "<table border=\"1\" class=\"dataframe\">\n",
       "  <thead>\n",
       "    <tr style=\"text-align: right;\">\n",
       "      <th></th>\n",
       "      <th>team_name</th>\n",
       "      <th>href_link</th>\n",
       "    </tr>\n",
       "  </thead>\n",
       "  <tbody>\n",
       "    <tr>\n",
       "      <th>0</th>\n",
       "      <td>Team America</td>\n",
       "      <td>https://stats.sharksice.timetoscore.com/displa...</td>\n",
       "    </tr>\n",
       "    <tr>\n",
       "      <th>0</th>\n",
       "      <td>Team Beer</td>\n",
       "      <td>https://stats.sharksice.timetoscore.com/displa...</td>\n",
       "    </tr>\n",
       "  </tbody>\n",
       "</table>\n",
       "</div>"
      ],
      "text/plain": [
       "      team_name                                          href_link\n",
       "0  Team America  https://stats.sharksice.timetoscore.com/displa...\n",
       "0     Team Beer  https://stats.sharksice.timetoscore.com/displa..."
      ]
     },
     "execution_count": 886,
     "metadata": {},
     "output_type": "execute_result"
    }
   ],
   "source": [
    "# Find links for Team Names.\n",
    "parsed = urlparse(url_main_league)\n",
    "# print('scheme  :', parsed.scheme)\n",
    "# print('netloc  :', parsed.netloc)\n",
    "# print('path    :', parsed.path)\n",
    "# print('params  :', parsed.params)\n",
    "# print('query   :', parsed.query)\n",
    "# print('fragment:', parsed.fragment)\n",
    "# print('username:', parsed.username)\n",
    "# print('password:', parsed.password)\n",
    "# print('hostname:', parsed.hostname)\n",
    "# print('port    :', parsed.port)\n",
    "\n",
    "# urljoin(urljoin(parsed.scheme,parsed.netloc),hockey_url)\n",
    "df_links = pd.DataFrame({'team_name':[],'href_link':[]})\n",
    "\n",
    "for link in link_names:           \n",
    "    for nam in team_names:                \n",
    "        if link.text.strip()==nam:\n",
    "            hockey_url = parsed.scheme + '://' + parsed.netloc + '/' + link['href']\n",
    "            df_add = pd.DataFrame.from_dict({'team_name':[nam],'href_link':[hockey_url]})\n",
    "            df_links = pd.concat([df_links,df_add])\n",
    "df_links"
   ]
  },
  {
   "cell_type": "markdown",
   "metadata": {},
   "source": [
    "## Team select stuff"
   ]
  },
  {
   "cell_type": "code",
   "execution_count": 887,
   "metadata": {},
   "outputs": [
    {
     "name": "stdout",
     "output_type": "stream",
     "text": [
      "Team America\n",
      "https://stats.sharksice.timetoscore.com/display-schedule?team=2297&season=55&league=1&stat_class=1\n"
     ]
    }
   ],
   "source": [
    "team_name, hockey_url = df_links.iloc[0,:]\n",
    "print(team_name)\n",
    "print(hockey_url)\n",
    "# team_name  = 'Team Beer'\n",
    "# hockey_url = 'https://stats.sharksice.timetoscore.com/display-schedule?team=4637&season=55&league=1&stat_class=1'\n",
    "# team_name  = 'Team America'\n",
    "# hockey_url = 'https://stats.sharksice.timetoscore.com/display-schedule?team=2297&season=55&league=1&stat_class=1'"
   ]
  },
  {
   "cell_type": "code",
   "execution_count": 888,
   "metadata": {},
   "outputs": [],
   "source": [
    "hockey_url_check = requests.get(hockey_url)\n",
    "soup = BeautifulSoup(hockey_url_check.content,\"html.parser\")\n",
    "tables = soup.find_all('table')"
   ]
  },
  {
   "cell_type": "code",
   "execution_count": 889,
   "metadata": {},
   "outputs": [
    {
     "name": "stdout",
     "output_type": "stream",
     "text": [
      "0\n"
     ]
    }
   ],
   "source": [
    "# should be zero but double check \n",
    "for index,table in enumerate(tables):\n",
    "    if (\"Game Results\" in str(table)):\n",
    "        table_index = index\n",
    "print(table_index)"
   ]
  },
  {
   "cell_type": "markdown",
   "metadata": {},
   "source": [
    "## read table and fix data"
   ]
  },
  {
   "cell_type": "code",
   "execution_count": 890,
   "metadata": {},
   "outputs": [],
   "source": [
    "df_hockey_games = pd.read_html(str(tables[0]), flavor='bs4')[0]\n",
    "df_hockey_games = df_hockey_games.droplevel(0,axis=1)\n",
    "df_hockey_games.reset_index(inplace=True)\n",
    "df_hockey_games.rename(columns={'Goals':'Goals_Away','Goals.1':'Goals_Home'},inplace=True)\n",
    "df_hockey_games.head()\n",
    "df_hockey_games.replace(\"NaN\", np.nan, inplace = True)\n",
    "df_hockey_games.drop(columns=['Box Score','Scoresheet'],inplace=True)"
   ]
  },
  {
   "cell_type": "markdown",
   "metadata": {},
   "source": [
    "## indexing"
   ]
  },
  {
   "cell_type": "markdown",
   "metadata": {},
   "source": [
    "#### get datetime"
   ]
  },
  {
   "cell_type": "code",
   "execution_count": 891,
   "metadata": {},
   "outputs": [],
   "source": [
    "current_year = pd.to_datetime('today').strftime('%Y')\n",
    "current_datetime = pd.DataFrame([df_hockey_games['Date'] + ' ' + current_year + ' ' + df_hockey_games['Time']]).T\n",
    "current_datetime.columns = ['Date_Time']\n",
    "current_datetime_fix = pd.to_datetime(current_datetime['Date_Time'], format = '%a %b %d %Y %I:%M %p')\n",
    "df_hockey_games['Game_datetime'] = current_datetime_fix"
   ]
  },
  {
   "cell_type": "markdown",
   "metadata": {},
   "source": [
    "#### get bench and jersey color"
   ]
  },
  {
   "cell_type": "code",
   "execution_count": 892,
   "metadata": {},
   "outputs": [],
   "source": [
    "# team_name = 'Team America'\n",
    "idx_team_side = df_hockey_games['Home'] == team_name\n",
    "df_hockey_games['Team_side'] = pd.DataFrame(np.where(idx_team_side,'Home','Away'))\n",
    "df_hockey_games['Jersey']    = pd.DataFrame(np.where(idx_team_side,'Light','Dark'))"
   ]
  },
  {
   "cell_type": "markdown",
   "metadata": {},
   "source": [
    "#### fix goals and determine shootout"
   ]
  },
  {
   "cell_type": "code",
   "execution_count": 893,
   "metadata": {},
   "outputs": [],
   "source": [
    "shootout_decider = pd.DataFrame([df_hockey_games['Goals_Home'].astype(str).str[-1] == 'S'] or [df_hockey_games['Goals_Away'].astype(str).str[-1] == 'S']).transpose()\n",
    "df_hockey_games['Shootout_decider'] = shootout_decider\n",
    "\n",
    "df_hockey_games['Goals_Home'] = df_hockey_games['Goals_Home'].astype(str).str.extract('(\\d+)')\n",
    "df_hockey_games['Goals_Away'] = df_hockey_games['Goals_Away'].astype(str).str.extract('(\\d+)')"
   ]
  },
  {
   "cell_type": "markdown",
   "metadata": {},
   "source": [
    "#### see if there is games left"
   ]
  },
  {
   "cell_type": "code",
   "execution_count": 894,
   "metadata": {},
   "outputs": [],
   "source": [
    "games_left = pd.to_datetime('today') < df_hockey_games['Game_datetime']\n",
    "# games_left = pd.DataFrame(df_hockey_games['Game'].astype(str).str[-1] != '*')\n",
    "\n",
    "df_hockey_games['Upcoming_game'] = games_left"
   ]
  },
  {
   "cell_type": "markdown",
   "metadata": {},
   "source": [
    "neat game time"
   ]
  },
  {
   "cell_type": "code",
   "execution_count": 895,
   "metadata": {},
   "outputs": [],
   "source": [
    "df_hockey_games['Game_datetime_neat'] = df_hockey_games['Game_datetime'].dt.strftime('%a - %d %b @ %I:%M %p')\n",
    "df_hockey_games.drop(['Date','Time'], axis = 1, inplace=True)"
   ]
  },
  {
   "cell_type": "markdown",
   "metadata": {},
   "source": [
    "#### Str Replace Rinks and add team name"
   ]
  },
  {
   "cell_type": "code",
   "execution_count": 896,
   "metadata": {},
   "outputs": [],
   "source": [
    "df_hockey_games['Rink'] = df_hockey_games['Rink'].str.replace('San Jose ','')\n",
    "df_hockey_games['team_name'] = team_name"
   ]
  },
  {
   "cell_type": "markdown",
   "metadata": {},
   "source": [
    "## combine all teams data\n"
   ]
  },
  {
   "cell_type": "code",
   "execution_count": 901,
   "metadata": {},
   "outputs": [],
   "source": [
    "# blah here"
   ]
  },
  {
   "cell_type": "markdown",
   "metadata": {},
   "source": [
    "## reorder"
   ]
  },
  {
   "cell_type": "code",
   "execution_count": 897,
   "metadata": {},
   "outputs": [
    {
     "data": {
      "text/html": [
       "<div>\n",
       "<style scoped>\n",
       "    .dataframe tbody tr th:only-of-type {\n",
       "        vertical-align: middle;\n",
       "    }\n",
       "\n",
       "    .dataframe tbody tr th {\n",
       "        vertical-align: top;\n",
       "    }\n",
       "\n",
       "    .dataframe thead th {\n",
       "        text-align: right;\n",
       "    }\n",
       "</style>\n",
       "<table border=\"1\" class=\"dataframe\">\n",
       "  <thead>\n",
       "    <tr style=\"text-align: right;\">\n",
       "      <th></th>\n",
       "      <th>index</th>\n",
       "      <th>Game</th>\n",
       "      <th>team_name</th>\n",
       "      <th>Game_datetime_neat</th>\n",
       "      <th>Rink</th>\n",
       "      <th>Team_side</th>\n",
       "      <th>Jersey</th>\n",
       "      <th>League</th>\n",
       "      <th>Level</th>\n",
       "      <th>Away</th>\n",
       "      <th>Goals_Away</th>\n",
       "      <th>Home</th>\n",
       "      <th>Goals_Home</th>\n",
       "      <th>Type</th>\n",
       "      <th>Game_datetime</th>\n",
       "      <th>Shootout_decider</th>\n",
       "      <th>Upcoming_game</th>\n",
       "    </tr>\n",
       "  </thead>\n",
       "  <tbody>\n",
       "    <tr>\n",
       "      <th>0</th>\n",
       "      <td>0</td>\n",
       "      <td>328022*</td>\n",
       "      <td>Team America</td>\n",
       "      <td>Sat - 10 Sep @ 08:00 PM</td>\n",
       "      <td>Grey</td>\n",
       "      <td>Away</td>\n",
       "      <td>Dark</td>\n",
       "      <td>SIAHL@SJ</td>\n",
       "      <td>Adult Division 6A</td>\n",
       "      <td>Team America</td>\n",
       "      <td>4</td>\n",
       "      <td>Beerbears on Ice</td>\n",
       "      <td>3</td>\n",
       "      <td>Regular 1</td>\n",
       "      <td>2022-09-10 20:00:00</td>\n",
       "      <td>True</td>\n",
       "      <td>False</td>\n",
       "    </tr>\n",
       "    <tr>\n",
       "      <th>1</th>\n",
       "      <td>1</td>\n",
       "      <td>354475*</td>\n",
       "      <td>Team America</td>\n",
       "      <td>Mon - 19 Sep @ 11:15 PM</td>\n",
       "      <td>Grey</td>\n",
       "      <td>Home</td>\n",
       "      <td>Light</td>\n",
       "      <td>SIAHL@SJ</td>\n",
       "      <td>Adult Division 6A</td>\n",
       "      <td>Cereal Killers</td>\n",
       "      <td>7</td>\n",
       "      <td>Team America</td>\n",
       "      <td>4</td>\n",
       "      <td>Regular 2</td>\n",
       "      <td>2022-09-19 23:15:00</td>\n",
       "      <td>False</td>\n",
       "      <td>False</td>\n",
       "    </tr>\n",
       "    <tr>\n",
       "      <th>2</th>\n",
       "      <td>2</td>\n",
       "      <td>351696*</td>\n",
       "      <td>Team America</td>\n",
       "      <td>Sun - 25 Sep @ 05:45 PM</td>\n",
       "      <td>Sharks</td>\n",
       "      <td>Away</td>\n",
       "      <td>Dark</td>\n",
       "      <td>SIAHL@SJ</td>\n",
       "      <td>Adult Division 6A</td>\n",
       "      <td>Team America</td>\n",
       "      <td>2</td>\n",
       "      <td>Beerbears on Ice</td>\n",
       "      <td>3</td>\n",
       "      <td>Regular 3</td>\n",
       "      <td>2022-09-25 17:45:00</td>\n",
       "      <td>False</td>\n",
       "      <td>False</td>\n",
       "    </tr>\n",
       "    <tr>\n",
       "      <th>3</th>\n",
       "      <td>3</td>\n",
       "      <td>360402*</td>\n",
       "      <td>Team America</td>\n",
       "      <td>Wed - 28 Sep @ 09:45 PM</td>\n",
       "      <td>White (C)</td>\n",
       "      <td>Away</td>\n",
       "      <td>Dark</td>\n",
       "      <td>SIAHL@SJ</td>\n",
       "      <td>Adult Division 6A</td>\n",
       "      <td>Team America</td>\n",
       "      <td>2</td>\n",
       "      <td>Stampede</td>\n",
       "      <td>2</td>\n",
       "      <td>Regular 4</td>\n",
       "      <td>2022-09-28 21:45:00</td>\n",
       "      <td>False</td>\n",
       "      <td>False</td>\n",
       "    </tr>\n",
       "    <tr>\n",
       "      <th>4</th>\n",
       "      <td>4</td>\n",
       "      <td>369297</td>\n",
       "      <td>Team America</td>\n",
       "      <td>Sun - 09 Oct @ 09:00 PM</td>\n",
       "      <td>Orange (N)</td>\n",
       "      <td>Away</td>\n",
       "      <td>Dark</td>\n",
       "      <td>SIAHL@SJ</td>\n",
       "      <td>Adult Division 6A</td>\n",
       "      <td>Team America</td>\n",
       "      <td>NaN</td>\n",
       "      <td>K-Wings</td>\n",
       "      <td>NaN</td>\n",
       "      <td>Regular 5</td>\n",
       "      <td>2022-10-09 21:00:00</td>\n",
       "      <td>False</td>\n",
       "      <td>True</td>\n",
       "    </tr>\n",
       "    <tr>\n",
       "      <th>5</th>\n",
       "      <td>5</td>\n",
       "      <td>343483</td>\n",
       "      <td>Team America</td>\n",
       "      <td>Tue - 18 Oct @ 11:15 PM</td>\n",
       "      <td>Grey</td>\n",
       "      <td>Home</td>\n",
       "      <td>Light</td>\n",
       "      <td>SIAHL@SJ</td>\n",
       "      <td>Adult Division 6A</td>\n",
       "      <td>Kraken More Beers</td>\n",
       "      <td>NaN</td>\n",
       "      <td>Team America</td>\n",
       "      <td>NaN</td>\n",
       "      <td>Regular 6</td>\n",
       "      <td>2022-10-18 23:15:00</td>\n",
       "      <td>False</td>\n",
       "      <td>True</td>\n",
       "    </tr>\n",
       "  </tbody>\n",
       "</table>\n",
       "</div>"
      ],
      "text/plain": [
       "   index     Game     team_name       Game_datetime_neat        Rink  \\\n",
       "0      0  328022*  Team America  Sat - 10 Sep @ 08:00 PM        Grey   \n",
       "1      1  354475*  Team America  Mon - 19 Sep @ 11:15 PM        Grey   \n",
       "2      2  351696*  Team America  Sun - 25 Sep @ 05:45 PM      Sharks   \n",
       "3      3  360402*  Team America  Wed - 28 Sep @ 09:45 PM   White (C)   \n",
       "4      4   369297  Team America  Sun - 09 Oct @ 09:00 PM  Orange (N)   \n",
       "5      5   343483  Team America  Tue - 18 Oct @ 11:15 PM        Grey   \n",
       "\n",
       "  Team_side Jersey    League              Level               Away Goals_Away  \\\n",
       "0      Away   Dark  SIAHL@SJ  Adult Division 6A       Team America          4   \n",
       "1      Home  Light  SIAHL@SJ  Adult Division 6A     Cereal Killers          7   \n",
       "2      Away   Dark  SIAHL@SJ  Adult Division 6A       Team America          2   \n",
       "3      Away   Dark  SIAHL@SJ  Adult Division 6A       Team America          2   \n",
       "4      Away   Dark  SIAHL@SJ  Adult Division 6A       Team America        NaN   \n",
       "5      Home  Light  SIAHL@SJ  Adult Division 6A  Kraken More Beers        NaN   \n",
       "\n",
       "               Home Goals_Home       Type       Game_datetime  \\\n",
       "0  Beerbears on Ice          3  Regular 1 2022-09-10 20:00:00   \n",
       "1      Team America          4  Regular 2 2022-09-19 23:15:00   \n",
       "2  Beerbears on Ice          3  Regular 3 2022-09-25 17:45:00   \n",
       "3          Stampede          2  Regular 4 2022-09-28 21:45:00   \n",
       "4           K-Wings        NaN  Regular 5 2022-10-09 21:00:00   \n",
       "5      Team America        NaN  Regular 6 2022-10-18 23:15:00   \n",
       "\n",
       "   Shootout_decider  Upcoming_game  \n",
       "0              True          False  \n",
       "1             False          False  \n",
       "2             False          False  \n",
       "3             False          False  \n",
       "4             False           True  \n",
       "5             False           True  "
      ]
     },
     "execution_count": 897,
     "metadata": {},
     "output_type": "execute_result"
    }
   ],
   "source": [
    "cols_to_order = ['index', 'Game', 'team_name', 'Game_datetime_neat', 'Rink', 'Team_side', 'Jersey']\n",
    "new_columns = cols_to_order + (df_hockey_games.columns.drop(cols_to_order).tolist())\n",
    "df_hockey_games = df_hockey_games[new_columns]\n",
    "df_hockey_games"
   ]
  },
  {
   "cell_type": "markdown",
   "metadata": {},
   "source": [
    "## subq-date"
   ]
  },
  {
   "cell_type": "code",
   "execution_count": 898,
   "metadata": {},
   "outputs": [],
   "source": [
    "schedule_data = df_hockey_games.loc[:,['team_name', 'Upcoming_game', 'Game_datetime', 'Game_datetime_neat', 'Rink', 'Jersey', 'Team_side']]\n",
    "schedule_data.sort_values(by='Game_datetime', ascending=True, inplace=True)\n",
    "schedule_data.drop(columns='Game_datetime',inplace=True)"
   ]
  },
  {
   "cell_type": "markdown",
   "metadata": {},
   "source": [
    "# games and remaining games"
   ]
  },
  {
   "cell_type": "code",
   "execution_count": 900,
   "metadata": {},
   "outputs": [
    {
     "data": {
      "text/html": [
       "<div>\n",
       "<style scoped>\n",
       "    .dataframe tbody tr th:only-of-type {\n",
       "        vertical-align: middle;\n",
       "    }\n",
       "\n",
       "    .dataframe tbody tr th {\n",
       "        vertical-align: top;\n",
       "    }\n",
       "\n",
       "    .dataframe thead th {\n",
       "        text-align: right;\n",
       "    }\n",
       "</style>\n",
       "<table border=\"1\" class=\"dataframe\">\n",
       "  <thead>\n",
       "    <tr style=\"text-align: right;\">\n",
       "      <th></th>\n",
       "      <th>team_name</th>\n",
       "      <th>Game_datetime_neat</th>\n",
       "      <th>Rink</th>\n",
       "      <th>Jersey</th>\n",
       "      <th>Team_side</th>\n",
       "    </tr>\n",
       "  </thead>\n",
       "  <tbody>\n",
       "    <tr>\n",
       "      <th>0</th>\n",
       "      <td>Team America</td>\n",
       "      <td>Sun - 09 Oct @ 09:00 PM</td>\n",
       "      <td>Orange (N)</td>\n",
       "      <td>Dark</td>\n",
       "      <td>Away</td>\n",
       "    </tr>\n",
       "    <tr>\n",
       "      <th>1</th>\n",
       "      <td>Team America</td>\n",
       "      <td>Tue - 18 Oct @ 11:15 PM</td>\n",
       "      <td>Grey</td>\n",
       "      <td>Light</td>\n",
       "      <td>Home</td>\n",
       "    </tr>\n",
       "  </tbody>\n",
       "</table>\n",
       "</div>"
      ],
      "text/plain": [
       "      team_name       Game_datetime_neat        Rink Jersey Team_side\n",
       "0  Team America  Sun - 09 Oct @ 09:00 PM  Orange (N)   Dark      Away\n",
       "1  Team America  Tue - 18 Oct @ 11:15 PM        Grey  Light      Home"
      ]
     },
     "execution_count": 900,
     "metadata": {},
     "output_type": "execute_result"
    }
   ],
   "source": [
    "schedule_data_remaining = schedule_data.loc[schedule_data['Upcoming_game']].reset_index().drop(columns = ['Upcoming_game','index'])\n",
    "print(schedule_data)\n",
    "print(schedule_data_remaining)"
   ]
  }
 ],
 "metadata": {
  "kernelspec": {
   "display_name": "Python 3.10.1 64-bit",
   "language": "python",
   "name": "python3"
  },
  "language_info": {
   "codemirror_mode": {
    "name": "ipython",
    "version": 3
   },
   "file_extension": ".py",
   "mimetype": "text/x-python",
   "name": "python",
   "nbconvert_exporter": "python",
   "pygments_lexer": "ipython3",
   "version": "3.10.1"
  },
  "orig_nbformat": 4,
  "vscode": {
   "interpreter": {
    "hash": "ad2b602d900782d1669cfe4adc170349fca2d944c0dfaa7982a8f0f32d4ec4d5"
   }
  }
 },
 "nbformat": 4,
 "nbformat_minor": 2
}
